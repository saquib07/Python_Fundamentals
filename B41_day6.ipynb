{
 "cells": [
  {
   "cell_type": "code",
   "execution_count": null,
   "metadata": {},
   "outputs": [],
   "source": [
    "# Continuation with the lists:"
   ]
  },
  {
   "cell_type": "code",
   "execution_count": 1,
   "metadata": {},
   "outputs": [
    {
     "name": "stdout",
     "output_type": "stream",
     "text": [
      "['ramesh', 'naveed', 'zaheer', 'priyanka', 'udit', 'imran', 'shafia']\n"
     ]
    }
   ],
   "source": [
    "students = ['ramesh','naveed','zaheer','priyanka','udit','imran','shafia']\n",
    "print(students)"
   ]
  },
  {
   "cell_type": "code",
   "execution_count": 2,
   "metadata": {},
   "outputs": [
    {
     "data": {
      "text/plain": [
       "list"
      ]
     },
     "execution_count": 2,
     "metadata": {},
     "output_type": "execute_result"
    }
   ],
   "source": [
    "type(students)"
   ]
  },
  {
   "cell_type": "code",
   "execution_count": null,
   "metadata": {},
   "outputs": [],
   "source": [
    "# Req: I want to appreciate the above students for joining the session regularly on time.."
   ]
  },
  {
   "cell_type": "code",
   "execution_count": 4,
   "metadata": {},
   "outputs": [
    {
     "name": "stdout",
     "output_type": "stream",
     "text": [
      "keep up the good work,ramesh\n"
     ]
    }
   ],
   "source": [
    "print(f\"keep up the good work,{students[0]}\")"
   ]
  },
  {
   "cell_type": "code",
   "execution_count": 5,
   "metadata": {},
   "outputs": [
    {
     "name": "stdout",
     "output_type": "stream",
     "text": [
      "keep up the good work,naveed\n"
     ]
    }
   ],
   "source": [
    "print(f\"keep up the good work,{students[1]}\")"
   ]
  },
  {
   "cell_type": "code",
   "execution_count": 6,
   "metadata": {},
   "outputs": [
    {
     "name": "stdout",
     "output_type": "stream",
     "text": [
      "keep up the good work,zaheer\n"
     ]
    }
   ],
   "source": [
    "print(f\"keep up the good work,{students[2]}\")"
   ]
  },
  {
   "cell_type": "code",
   "execution_count": null,
   "metadata": {},
   "outputs": [],
   "source": [
    "# Introduction to for loops in Python:\n",
    "\n",
    "General syntax of a for loop:\n",
    "    \n",
    "for tempvar in mainvar:\n",
    "    print(tempvar) # Note: Indentation is required before print statement in for loop."
   ]
  },
  {
   "cell_type": "code",
   "execution_count": 9,
   "metadata": {},
   "outputs": [
    {
     "name": "stdout",
     "output_type": "stream",
     "text": [
      "keep up the good work,ramesh\n",
      "keep up the good work,naveed\n",
      "keep up the good work,zaheer\n",
      "keep up the good work,priyanka\n",
      "keep up the good work,udit\n",
      "keep up the good work,imran\n",
      "keep up the good work,shafia\n"
     ]
    }
   ],
   "source": [
    "for x in students:\n",
    "    print(f\"keep up the good work,{x}\")"
   ]
  },
  {
   "cell_type": "code",
   "execution_count": 11,
   "metadata": {},
   "outputs": [
    {
     "name": "stdout",
     "output_type": "stream",
     "text": [
      "keep up the good work,Ramesh\n",
      "keep up the good work,Naveed\n",
      "keep up the good work,Zaheer\n",
      "keep up the good work,Priyanka\n",
      "keep up the good work,Udit\n",
      "keep up the good work,Imran\n",
      "keep up the good work,Shafia\n"
     ]
    }
   ],
   "source": [
    "for test in students:\n",
    "    print(f\"keep up the good work,{test.title()}\")"
   ]
  },
  {
   "cell_type": "code",
   "execution_count": null,
   "metadata": {},
   "outputs": [],
   "source": []
  },
  {
   "cell_type": "code",
   "execution_count": null,
   "metadata": {},
   "outputs": [],
   "source": [
    "# Enhancement of the code:\n",
    "\n",
    "Req: I want to tell them that I will be looking forward to today's practice file as well."
   ]
  },
  {
   "cell_type": "code",
   "execution_count": 12,
   "metadata": {},
   "outputs": [
    {
     "name": "stdout",
     "output_type": "stream",
     "text": [
      "keep up the good work, Ramesh\n",
      "I will be looking forward to today's practice file as well.\n",
      "keep up the good work, Naveed\n",
      "I will be looking forward to today's practice file as well.\n",
      "keep up the good work, Zaheer\n",
      "I will be looking forward to today's practice file as well.\n",
      "keep up the good work, Priyanka\n",
      "I will be looking forward to today's practice file as well.\n",
      "keep up the good work, Udit\n",
      "I will be looking forward to today's practice file as well.\n",
      "keep up the good work, Imran\n",
      "I will be looking forward to today's practice file as well.\n",
      "keep up the good work, Shafia\n",
      "I will be looking forward to today's practice file as well.\n"
     ]
    }
   ],
   "source": [
    "for test in students:\n",
    "    print(f\"keep up the good work, {test.title()}\")\n",
    "    print(\"I will be looking forward to today's practice file as well.\")"
   ]
  },
  {
   "cell_type": "code",
   "execution_count": null,
   "metadata": {},
   "outputs": [],
   "source": [
    "# Improvising the above code :"
   ]
  },
  {
   "cell_type": "code",
   "execution_count": 13,
   "metadata": {},
   "outputs": [
    {
     "name": "stdout",
     "output_type": "stream",
     "text": [
      "keep up the good work, Ramesh\n",
      "I will be looking forward to today's practice file as well. \n",
      "\n",
      "keep up the good work, Naveed\n",
      "I will be looking forward to today's practice file as well. \n",
      "\n",
      "keep up the good work, Zaheer\n",
      "I will be looking forward to today's practice file as well. \n",
      "\n",
      "keep up the good work, Priyanka\n",
      "I will be looking forward to today's practice file as well. \n",
      "\n",
      "keep up the good work, Udit\n",
      "I will be looking forward to today's practice file as well. \n",
      "\n",
      "keep up the good work, Imran\n",
      "I will be looking forward to today's practice file as well. \n",
      "\n",
      "keep up the good work, Shafia\n",
      "I will be looking forward to today's practice file as well. \n",
      "\n"
     ]
    }
   ],
   "source": [
    "for test in students:\n",
    "    print(f\"keep up the good work, {test.title()}\")\n",
    "    print(\"I will be looking forward to today's practice file as well. \\n\") # This approach is writing in the loop."
   ]
  },
  {
   "cell_type": "code",
   "execution_count": 14,
   "metadata": {},
   "outputs": [
    {
     "name": "stdout",
     "output_type": "stream",
     "text": [
      "keep up the good work, Ramesh\n",
      "I will be looking forward to today's practice file as well. \n",
      "\n",
      "keep up the good work, Naveed\n",
      "I will be looking forward to today's practice file as well. \n",
      "\n",
      "keep up the good work, Zaheer\n",
      "I will be looking forward to today's practice file as well. \n",
      "\n",
      "keep up the good work, Priyanka\n",
      "I will be looking forward to today's practice file as well. \n",
      "\n",
      "keep up the good work, Udit\n",
      "I will be looking forward to today's practice file as well. \n",
      "\n",
      "keep up the good work, Imran\n",
      "I will be looking forward to today's practice file as well. \n",
      "\n",
      "keep up the good work, Shafia\n",
      "I will be looking forward to today's practice file as well. \n",
      "\n",
      "thank you all for joining the session\n"
     ]
    }
   ],
   "source": [
    "for test in students:\n",
    "    print(f\"keep up the good work, {test.title()}\")\n",
    "    print(\"I will be looking forward to today's practice file as well. \\n\")\n",
    "print(\"thank you all for joining the session\") # This approach is writing out of the loop. This line will get printed once only."
   ]
  },
  {
   "cell_type": "code",
   "execution_count": null,
   "metadata": {},
   "outputs": [],
   "source": []
  },
  {
   "cell_type": "code",
   "execution_count": null,
   "metadata": {},
   "outputs": [],
   "source": [
    "# Implementation of range function:\n",
    "\n",
    "General Syntax: range(startvalue,stopvalue,stepcount)"
   ]
  },
  {
   "cell_type": "code",
   "execution_count": null,
   "metadata": {},
   "outputs": [],
   "source": [
    "# req: I want to print numbers till 20"
   ]
  },
  {
   "cell_type": "code",
   "execution_count": 15,
   "metadata": {},
   "outputs": [
    {
     "name": "stdout",
     "output_type": "stream",
     "text": [
      "[0, 1, 2, 3, 4, 5, 6, 7, 8, 9, 10, 11, 12, 13, 14, 15, 16, 17, 18, 19]\n"
     ]
    }
   ],
   "source": [
    "numbers = list(range(0,20)) # Since last value is always exclusive, it will be printing upto 19.\n",
    "print(numbers)"
   ]
  },
  {
   "cell_type": "code",
   "execution_count": null,
   "metadata": {},
   "outputs": [],
   "source": []
  },
  {
   "cell_type": "code",
   "execution_count": 16,
   "metadata": {},
   "outputs": [
    {
     "name": "stdout",
     "output_type": "stream",
     "text": [
      "[1, 2, 3, 4, 5, 6, 7, 8, 9, 10, 11, 12, 13, 14, 15, 16, 17, 18, 19, 20]\n"
     ]
    }
   ],
   "source": [
    "numbers = list(range(1,21))\n",
    "print(numbers)"
   ]
  },
  {
   "cell_type": "code",
   "execution_count": null,
   "metadata": {},
   "outputs": [],
   "source": []
  },
  {
   "cell_type": "code",
   "execution_count": null,
   "metadata": {},
   "outputs": [],
   "source": [
    "# req: I want to print even numbers till 30 by using a list:"
   ]
  },
  {
   "cell_type": "code",
   "execution_count": 17,
   "metadata": {},
   "outputs": [
    {
     "name": "stdout",
     "output_type": "stream",
     "text": [
      "[0, 2, 4, 6, 8, 10, 12, 14, 16, 18, 20, 22, 24, 26, 28, 30]\n"
     ]
    }
   ],
   "source": [
    "even_numbers = list(range(0,31,2))\n",
    "print(even_numbers)"
   ]
  },
  {
   "cell_type": "code",
   "execution_count": null,
   "metadata": {},
   "outputs": [],
   "source": []
  },
  {
   "cell_type": "code",
   "execution_count": null,
   "metadata": {},
   "outputs": [],
   "source": []
  },
  {
   "cell_type": "code",
   "execution_count": null,
   "metadata": {},
   "outputs": [],
   "source": []
  },
  {
   "cell_type": "code",
   "execution_count": null,
   "metadata": {},
   "outputs": [],
   "source": []
  },
  {
   "cell_type": "code",
   "execution_count": null,
   "metadata": {},
   "outputs": [],
   "source": []
  },
  {
   "cell_type": "code",
   "execution_count": null,
   "metadata": {},
   "outputs": [],
   "source": []
  },
  {
   "cell_type": "code",
   "execution_count": null,
   "metadata": {},
   "outputs": [],
   "source": []
  },
  {
   "cell_type": "code",
   "execution_count": null,
   "metadata": {},
   "outputs": [],
   "source": []
  },
  {
   "cell_type": "code",
   "execution_count": null,
   "metadata": {},
   "outputs": [],
   "source": []
  },
  {
   "cell_type": "code",
   "execution_count": null,
   "metadata": {},
   "outputs": [],
   "source": []
  },
  {
   "cell_type": "code",
   "execution_count": null,
   "metadata": {},
   "outputs": [],
   "source": []
  },
  {
   "cell_type": "code",
   "execution_count": null,
   "metadata": {},
   "outputs": [],
   "source": []
  }
 ],
 "metadata": {
  "kernelspec": {
   "display_name": "Python 3",
   "language": "python",
   "name": "python3"
  },
  "language_info": {
   "codemirror_mode": {
    "name": "ipython",
    "version": 3
   },
   "file_extension": ".py",
   "mimetype": "text/x-python",
   "name": "python",
   "nbconvert_exporter": "python",
   "pygments_lexer": "ipython3",
   "version": "3.8.5"
  }
 },
 "nbformat": 4,
 "nbformat_minor": 4
}
